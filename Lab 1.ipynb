{
 "cells": [
  {
   "cell_type": "code",
   "execution_count": 4,
   "id": "3e96f35c",
   "metadata": {},
   "outputs": [
    {
     "name": "stdout",
     "output_type": "stream",
     "text": [
      "2\n"
     ]
    }
   ],
   "source": [
    "numbers = [2, 7, 4, 1, 3, 6]\n",
    "target_sum = 10\n",
    "def count_pairs_with_sum(numbers,target_sum):\n",
    "    frequency = {}\n",
    "    total_pairs = 0\n",
    "    \n",
    "    for number in numbers:\n",
    "        required_value = target_sum - number\n",
    "        if required_value in frequency:\n",
    "            total_pairs += frequency[required_value]\n",
    "        if number in frequency:\n",
    "            frequency[number] += 1\n",
    "        else:\n",
    "            frequency[number] = 1\n",
    "    \n",
    "    return total_pairs\n",
    "\n",
    "print(count_pairs_with_sum(numbers,target_sum))\n"
   ]
  },
  {
   "cell_type": "code",
   "execution_count": 5,
   "id": "51819066",
   "metadata": {},
   "outputs": [
    {
     "name": "stdout",
     "output_type": "stream",
     "text": [
      "8\n"
     ]
    }
   ],
   "source": [
    "def find_range(numbers):\n",
    "    if len(numbers) < 3:\n",
    "        return \"Range determination not possible\"\n",
    "   \n",
    "    min_value = min(numbers)\n",
    "    max_value = max(numbers)\n",
    "    return max_value - min_value\n",
    "\n",
    "\n",
    "numbers = [5, 3, 8, 1, 0, 4]\n",
    "print(find_range(numbers))"
   ]
  },
  {
   "cell_type": "code",
   "execution_count": 8,
   "id": "2c73c79f",
   "metadata": {},
   "outputs": [
    {
     "name": "stdout",
     "output_type": "stream",
     "text": [
      "[[ 7 10]\n",
      " [15 22]]\n"
     ]
    }
   ],
   "source": [
    "import numpy as np\n",
    "\n",
    "A = [[1, 2], [3, 4]]\n",
    "m = 2\n",
    "\n",
    "def matrix_power(A, m):\n",
    "    A = np.array(A)\n",
    "    if A.shape[0] != A.shape[1]:\n",
    "        raise ValueError(\"Input matrix must be square\")\n",
    "    return np.linalg.matrix_power(A, m)\n",
    "\n",
    "print(matrix_power(A, m))"
   ]
  },
  {
   "cell_type": "code",
   "execution_count": 10,
   "id": "7c2b00b2",
   "metadata": {},
   "outputs": [
    {
     "name": "stdout",
     "output_type": "stream",
     "text": [
      "The maximum occurring character is 'p' with count 3.\n"
     ]
    }
   ],
   "source": [
    "def highest_occurrence_char(string):\n",
    "    char_count = {}\n",
    "    \n",
    "    for char in string:\n",
    "        if char.isalpha():\n",
    "            char = char.lower()\n",
    "            if char in char_count:\n",
    "                char_count[char] += 1\n",
    "            else:\n",
    "                char_count[char] = 1\n",
    "\n",
    "    max_char = max(char_count, key=char_count.get)\n",
    "    max_count = char_count[max_char]\n",
    "    return max_char, max_count\n",
    "\n",
    "string = \"hippopotamus\"\n",
    "max_char, max_count = highest_occurrence_char(string)\n",
    "print(f\"The maximum occurring character is '{max_char}' with count {max_count}.\")\n"
   ]
  }
 ],
 "metadata": {
  "kernelspec": {
   "display_name": "Python 3 (ipykernel)",
   "language": "python",
   "name": "python3"
  },
  "language_info": {
   "codemirror_mode": {
    "name": "ipython",
    "version": 3
   },
   "file_extension": ".py",
   "mimetype": "text/x-python",
   "name": "python",
   "nbconvert_exporter": "python",
   "pygments_lexer": "ipython3",
   "version": "3.11.5"
  }
 },
 "nbformat": 4,
 "nbformat_minor": 5
}
